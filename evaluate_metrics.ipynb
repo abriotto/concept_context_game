{
 "cells": [
  {
   "cell_type": "code",
   "execution_count": 7,
   "metadata": {
    "ExecuteTime": {
     "end_time": "2024-03-14T14:07:31.005473Z",
     "start_time": "2024-03-14T14:07:31.002334Z"
    }
   },
   "outputs": [],
   "source": [
    "import pickle\n",
    "import torch\n",
    "from utils.analysis_from_interaction import *\n",
    "from egg.core.language_analysis import Disent\n",
    "from language_analysis_local import TopographicSimilarityConceptLevel, encode_target_concepts_for_topsim"
   ]
  },
  {
   "attachments": {},
   "cell_type": "markdown",
   "metadata": {},
   "source": [
    "# calculate metrics from stored interactions"
   ]
  },
  {
   "cell_type": "code",
   "execution_count": 3,
   "metadata": {},
   "outputs": [],
   "source": [
    "granularities = ['granularity_coarse', 'granularity_fine']\n"
   ]
  },
  {
   "cell_type": "code",
<<<<<<< HEAD
   "execution_count": 2,
=======
   "execution_count": 4,
>>>>>>> 07b650c9ec863a3108bc2677b72856e80b6a3c1a
   "metadata": {
    "ExecuteTime": {
     "end_time": "2024-03-14T14:07:35.486572Z",
     "start_time": "2024-03-14T14:07:35.482298Z"
    }
   },
   "outputs": [],
   "source": [
    "datasets = ('(3,8)','(4,4)', '(4,8)')\n",
    "n_attributes = (3, 4, 4)\n",
    "n_values = (8, 4, 8)\n",
    "n_epochs = 300\n",
    "#paths = ['results/' + d + '_sample_scaling_10_balanced_False_vsf_3/' for d in datasets]\n",
    "paths = ['results/' + d + '_game_size_10_vsf_3/' for d in datasets]\n",
    "\n"
   ]
  },
  {
   "cell_type": "code",
   "execution_count": 4,
   "metadata": {
    "ExecuteTime": {
     "end_time": "2024-03-06T14:06:31.077419Z",
     "start_time": "2024-03-06T14:06:31.064730Z"
    },
    "collapsed": false
   },
   "outputs": [],
   "source": [
    "### this cell is used to evaluate only the smallest dataset in a preliminary phase\n",
    "\n",
    "datasets = ('(3,4)',)\n",
    "n_attributes = (3,)\n",
    "n_values = (4,)\n",
    "n_epochs = 300\n",
    "#paths = ['results/' + d + '_sample_scaling_10_balanced_False_vsf_3/' for d in datasets]\n",
    "paths = ['results/' + d + '_game_size_10_vsf_3/' for d in datasets]"
   ]
  },
  {
   "cell_type": "code",
<<<<<<< HEAD
   "execution_count": 5,
   "metadata": {},
   "outputs": [],
   "source": [
    "\n",
=======
   "execution_count": 1,
   "metadata": {},
   "outputs": [],
   "source": [
>>>>>>> 07b650c9ec863a3108bc2677b72856e80b6a3c1a
    "datasets = ('(5,4)',)\n",
    "n_attributes = (5,)\n",
    "n_values = (4,)\n",
    "n_epochs = 300\n",
    "#paths = ['results/' + d + '_sample_scaling_10_balanced_False_vsf_3/' for d in datasets]\n",
    "paths = ['results/' + d + '_game_size_10_vsf_3/' for d in datasets]"
   ]
  },
  {
   "cell_type": "code",
<<<<<<< HEAD
   "execution_count": 6,
=======
   "execution_count": 4,
>>>>>>> 07b650c9ec863a3108bc2677b72856e80b6a3c1a
   "metadata": {
    "ExecuteTime": {
     "end_time": "2024-03-14T14:07:36.808016Z",
     "start_time": "2024-03-14T14:07:36.795439Z"
    }
   },
   "outputs": [],
   "source": [
    "context_unaware = False # whether original or context_unaware simulations are evaluated\n",
    "length_cost = False # whether length_cost was applied\n",
    "no_cost = True # set to True to consider baselines without a cost\n",
    "if length_cost:\n",
    "    if context_unaware and not no_cost:\n",
    "        setting = 'length_cost/context_unaware'\n",
    "    elif context_unaware and no_cost:\n",
    "        setting = 'length_cost/no_cost_context_unaware'\n",
    "    elif not context_unaware and not no_cost:\n",
    "        setting = 'length_cost/context_aware'\n",
    "    else:\n",
    "        setting = 'length_cost/no_cost_context_aware'\n",
    "else:\n",
    "    if context_unaware:\n",
    "        setting = 'context_unaware'\n",
    "    else:\n",
    "        setting = 'standard'"
   ]
  },
  {
   "attachments": {},
   "cell_type": "markdown",
   "metadata": {},
   "source": [
    "## entropy scores: MI, effectiveness, efficiency"
   ]
  },
  {
   "cell_type": "code",
<<<<<<< HEAD
   "execution_count": null,
=======
   "execution_count": 8,
>>>>>>> 07b650c9ec863a3108bc2677b72856e80b6a3c1a
   "metadata": {
    "ExecuteTime": {
     "end_time": "2024-03-06T14:06:37.646673Z",
     "start_time": "2024-03-06T14:06:33.540807Z"
    }
   },
<<<<<<< HEAD
   "outputs": [],
=======
   "outputs": [
    {
     "name": "stdout",
     "output_type": "stream",
     "text": [
      "results/(5,4)_game_size_10_vsf_3/standard/0/\n"
     ]
    },
    {
     "ename": "FileNotFoundError",
     "evalue": "[Errno 2] No such file or directory: 'results/(5,4)_game_size_10_vsf_3/standard/0/interactions/train/epoch_300/interaction_gpu0'",
     "output_type": "error",
     "traceback": [
      "\u001b[1;31m---------------------------------------------------------------------------\u001b[0m",
      "\u001b[1;31mFileNotFoundError\u001b[0m                         Traceback (most recent call last)",
      "Cell \u001b[1;32mIn[8], line 8\u001b[0m\n\u001b[0;32m      6\u001b[0m \u001b[38;5;28mprint\u001b[39m(path_to_run)\n\u001b[0;32m      7\u001b[0m path_to_interaction \u001b[38;5;241m=\u001b[39m (path_to_run \u001b[38;5;241m+\u001b[39m \u001b[38;5;124m'\u001b[39m\u001b[38;5;124minteractions/train/epoch_\u001b[39m\u001b[38;5;124m'\u001b[39m \u001b[38;5;241m+\u001b[39m \u001b[38;5;28mstr\u001b[39m(n_epochs) \u001b[38;5;241m+\u001b[39m \u001b[38;5;124m'\u001b[39m\u001b[38;5;124m/interaction_gpu0\u001b[39m\u001b[38;5;124m'\u001b[39m)\n\u001b[1;32m----> 8\u001b[0m interaction \u001b[38;5;241m=\u001b[39m \u001b[43mtorch\u001b[49m\u001b[38;5;241;43m.\u001b[39;49m\u001b[43mload\u001b[49m\u001b[43m(\u001b[49m\u001b[43mpath_to_interaction\u001b[49m\u001b[43m)\u001b[49m\n\u001b[0;32m     10\u001b[0m attributes \u001b[38;5;241m=\u001b[39m n_attributes[d]\n\u001b[0;32m     11\u001b[0m values \u001b[38;5;241m=\u001b[39m n_values[d]\n",
      "File \u001b[1;32mc:\\ProgramData\\anaconda3\\envs\\emergab\\lib\\site-packages\\torch\\serialization.py:997\u001b[0m, in \u001b[0;36mload\u001b[1;34m(f, map_location, pickle_module, weights_only, mmap, **pickle_load_args)\u001b[0m\n\u001b[0;32m    994\u001b[0m \u001b[38;5;28;01mif\u001b[39;00m \u001b[38;5;124m'\u001b[39m\u001b[38;5;124mencoding\u001b[39m\u001b[38;5;124m'\u001b[39m \u001b[38;5;129;01mnot\u001b[39;00m \u001b[38;5;129;01min\u001b[39;00m pickle_load_args\u001b[38;5;241m.\u001b[39mkeys():\n\u001b[0;32m    995\u001b[0m     pickle_load_args[\u001b[38;5;124m'\u001b[39m\u001b[38;5;124mencoding\u001b[39m\u001b[38;5;124m'\u001b[39m] \u001b[38;5;241m=\u001b[39m \u001b[38;5;124m'\u001b[39m\u001b[38;5;124mutf-8\u001b[39m\u001b[38;5;124m'\u001b[39m\n\u001b[1;32m--> 997\u001b[0m \u001b[38;5;28;01mwith\u001b[39;00m \u001b[43m_open_file_like\u001b[49m\u001b[43m(\u001b[49m\u001b[43mf\u001b[49m\u001b[43m,\u001b[49m\u001b[43m \u001b[49m\u001b[38;5;124;43m'\u001b[39;49m\u001b[38;5;124;43mrb\u001b[39;49m\u001b[38;5;124;43m'\u001b[39;49m\u001b[43m)\u001b[49m \u001b[38;5;28;01mas\u001b[39;00m opened_file:\n\u001b[0;32m    998\u001b[0m     \u001b[38;5;28;01mif\u001b[39;00m _is_zipfile(opened_file):\n\u001b[0;32m    999\u001b[0m         \u001b[38;5;66;03m# The zipfile reader is going to advance the current file position.\u001b[39;00m\n\u001b[0;32m   1000\u001b[0m         \u001b[38;5;66;03m# If we want to actually tail call to torch.jit.load, we need to\u001b[39;00m\n\u001b[0;32m   1001\u001b[0m         \u001b[38;5;66;03m# reset back to the original position.\u001b[39;00m\n\u001b[0;32m   1002\u001b[0m         orig_position \u001b[38;5;241m=\u001b[39m opened_file\u001b[38;5;241m.\u001b[39mtell()\n",
      "File \u001b[1;32mc:\\ProgramData\\anaconda3\\envs\\emergab\\lib\\site-packages\\torch\\serialization.py:444\u001b[0m, in \u001b[0;36m_open_file_like\u001b[1;34m(name_or_buffer, mode)\u001b[0m\n\u001b[0;32m    442\u001b[0m \u001b[38;5;28;01mdef\u001b[39;00m \u001b[38;5;21m_open_file_like\u001b[39m(name_or_buffer, mode):\n\u001b[0;32m    443\u001b[0m     \u001b[38;5;28;01mif\u001b[39;00m _is_path(name_or_buffer):\n\u001b[1;32m--> 444\u001b[0m         \u001b[38;5;28;01mreturn\u001b[39;00m \u001b[43m_open_file\u001b[49m\u001b[43m(\u001b[49m\u001b[43mname_or_buffer\u001b[49m\u001b[43m,\u001b[49m\u001b[43m \u001b[49m\u001b[43mmode\u001b[49m\u001b[43m)\u001b[49m\n\u001b[0;32m    445\u001b[0m     \u001b[38;5;28;01melse\u001b[39;00m:\n\u001b[0;32m    446\u001b[0m         \u001b[38;5;28;01mif\u001b[39;00m \u001b[38;5;124m'\u001b[39m\u001b[38;5;124mw\u001b[39m\u001b[38;5;124m'\u001b[39m \u001b[38;5;129;01min\u001b[39;00m mode:\n",
      "File \u001b[1;32mc:\\ProgramData\\anaconda3\\envs\\emergab\\lib\\site-packages\\torch\\serialization.py:425\u001b[0m, in \u001b[0;36m_open_file.__init__\u001b[1;34m(self, name, mode)\u001b[0m\n\u001b[0;32m    424\u001b[0m \u001b[38;5;28;01mdef\u001b[39;00m \u001b[38;5;21m__init__\u001b[39m(\u001b[38;5;28mself\u001b[39m, name, mode):\n\u001b[1;32m--> 425\u001b[0m     \u001b[38;5;28msuper\u001b[39m()\u001b[38;5;241m.\u001b[39m\u001b[38;5;21m__init__\u001b[39m(\u001b[38;5;28;43mopen\u001b[39;49m\u001b[43m(\u001b[49m\u001b[43mname\u001b[49m\u001b[43m,\u001b[49m\u001b[43m \u001b[49m\u001b[43mmode\u001b[49m\u001b[43m)\u001b[49m)\n",
      "\u001b[1;31mFileNotFoundError\u001b[0m: [Errno 2] No such file or directory: 'results/(5,4)_game_size_10_vsf_3/standard/0/interactions/train/epoch_300/interaction_gpu0'"
     ]
    }
   ],
>>>>>>> 07b650c9ec863a3108bc2677b72856e80b6a3c1a
   "source": [
    "for d in range(len(datasets)):\n",
    "    \n",
    "    for run in range(5):\n",
    "\n",
    "        path_to_run = paths[d] + str(setting) +'/' + str(run) + '/' \n",
    "        print(path_to_run)\n",
    "        path_to_interaction = (path_to_run + 'interactions/train/epoch_' + str(n_epochs) + '/interaction_gpu0')\n",
    "        interaction = torch.load(path_to_interaction)\n",
    "\n",
    "        attributes = n_attributes[d]\n",
    "        values = n_values[d]\n",
    "        scores = information_scores(interaction, attributes, values, normalizer=\"arithmetic\")\n",
    "\n",
    "        pickle.dump(scores, open(path_to_run + 'entropy_scores.pkl', 'wb'))\n",
    "    "
   ]
  },
  {
   "cell_type": "code",
<<<<<<< HEAD
   "execution_count": 7,
=======
   "execution_count": 9,
>>>>>>> 07b650c9ec863a3108bc2677b72856e80b6a3c1a
   "metadata": {},
   "outputs": [
    {
     "name": "stdout",
     "output_type": "stream",
     "text": [
<<<<<<< HEAD
      "results/(5,4)_game_size_10_vsf_3/standard/granularity_coarse/0/\n"
=======
      "results/(5,4)_game_size_10_vsf_3/standard/granularity_fine/0/\n"
>>>>>>> 07b650c9ec863a3108bc2677b72856e80b6a3c1a
     ]
    },
    {
     "name": "stderr",
     "output_type": "stream",
     "text": [
<<<<<<< HEAD
      "c:\\Users\\Colab\\Documents\\GitHub\\emergent-abstractions\\utils\\analysis_from_interaction.py:312: RuntimeWarning: invalid value encountered in divide\n",
      "  normalized_MI_context_dep = ((m_entropy_context_dep + c_entropy_context_dep - joint_entropy_context_dep)\n",
      "c:\\Users\\Colab\\Documents\\GitHub\\emergent-abstractions\\utils\\analysis_from_interaction.py:315: RuntimeWarning: invalid value encountered in divide\n",
      "  (m_entropy_concept_x_context + c_entropy_concept_x_context - joint_entropy_concept_x_context)\n",
      "c:\\Users\\Colab\\Documents\\GitHub\\emergent-abstractions\\utils\\analysis_from_interaction.py:322: RuntimeWarning: invalid value encountered in divide\n",
      "  normalized_effectiveness_context_dep = ((joint_entropy_context_dep - m_entropy_context_dep)\n",
      "c:\\Users\\Colab\\Documents\\GitHub\\emergent-abstractions\\utils\\analysis_from_interaction.py:324: RuntimeWarning: invalid value encountered in divide\n",
      "  normalized_effectiveness_conc_x_cont = ((joint_entropy_concept_x_context - m_entropy_concept_x_context)\n",
      "c:\\Users\\Colab\\Documents\\GitHub\\emergent-abstractions\\utils\\analysis_from_interaction.py:330: RuntimeWarning: invalid value encountered in divide\n",
      "  normalized_consistency_context_dep = (joint_entropy_context_dep - c_entropy_context_dep) / m_entropy_context_dep\n",
=======
      "c:\\Users\\Colab\\Documents\\GitHub\\emergent-abstractions\\utils\\analysis_from_interaction.py:315: RuntimeWarning: invalid value encountered in divide\n",
      "  (m_entropy_concept_x_context + c_entropy_concept_x_context - joint_entropy_concept_x_context)\n",
      "c:\\Users\\Colab\\Documents\\GitHub\\emergent-abstractions\\utils\\analysis_from_interaction.py:324: RuntimeWarning: invalid value encountered in divide\n",
      "  normalized_effectiveness_conc_x_cont = ((joint_entropy_concept_x_context - m_entropy_concept_x_context)\n",
>>>>>>> 07b650c9ec863a3108bc2677b72856e80b6a3c1a
      "c:\\Users\\Colab\\Documents\\GitHub\\emergent-abstractions\\utils\\analysis_from_interaction.py:331: RuntimeWarning: invalid value encountered in divide\n",
      "  normalized_consistency_conc_x_cont = (\n"
     ]
    },
    {
     "name": "stdout",
     "output_type": "stream",
     "text": [
<<<<<<< HEAD
      "results/(5,4)_game_size_10_vsf_3/standard/granularity_coarse/1/\n",
      "results/(5,4)_game_size_10_vsf_3/standard/granularity_coarse/2/\n",
      "results/(5,4)_game_size_10_vsf_3/standard/granularity_coarse/3/\n",
      "results/(5,4)_game_size_10_vsf_3/standard/granularity_coarse/4/\n"
=======
      "results/(5,4)_game_size_10_vsf_3/standard/granularity_fine/1/\n",
      "results/(5,4)_game_size_10_vsf_3/standard/granularity_fine/2/\n",
      "results/(5,4)_game_size_10_vsf_3/standard/granularity_fine/3/\n",
      "results/(5,4)_game_size_10_vsf_3/standard/granularity_fine/4/\n"
>>>>>>> 07b650c9ec863a3108bc2677b72856e80b6a3c1a
     ]
    }
   ],
   "source": [
    "# this cell is to analyze results in standard with non-default granularity\n",
    "for g in granularities:\n",
    "    for d in range(len(datasets)):\n",
    "        \n",
    "        for run in range(5): \n",
    "            path_to_run = paths[d] + str(setting) + '/' + str(g) + '/' + str(run) + '/' \n",
    "            print(path_to_run)\n",
    "            path_to_interaction = (path_to_run + 'interactions/train/epoch_' + str(n_epochs) + '/interaction_gpu0')\n",
    "            interaction = torch.load(path_to_interaction)\n",
    "\n",
    "            attributes = n_attributes[d]\n",
    "            values = n_values[d]\n",
    "            scores = information_scores(interaction, attributes, values, normalizer=\"arithmetic\")\n",
    "\n",
    "            pickle.dump(scores, open(path_to_run + 'entropy_scores.pkl', 'wb'))\n",
    "    "
   ]
  },
  {
   "attachments": {},
   "cell_type": "markdown",
   "metadata": {},
   "source": [
    "##  message length"
   ]
  },
  {
   "cell_type": "code",
   "execution_count": null,
   "metadata": {
    "ExecuteTime": {
     "end_time": "2024-02-28T16:14:53.162856Z",
     "start_time": "2024-02-28T16:14:51.541390Z"
    }
   },
   "outputs": [],
   "source": [
    "# we evaluated message length per hierarchy level after training but \n",
    "# you can also use the HierarchicalMessageLength callback and store the results \n",
    "# TODO: Message length results look weird, needs to be fixed!\n",
    "\n",
    "for d in range(len(datasets)):\n",
    "    \n",
    "    for run in range(5): \n",
    "        \n",
    "        path_to_run = paths[d] + '/' + str(setting) +'/' + str(run) + '/'\n",
    "        path_to_interaction = (path_to_run + 'interactions/train/interactions_epoch' + str(n_epochs))\n",
    "        path_to_interaction = (path_to_run + 'interactions/train/epoch_' + str(n_epochs) + '/interaction_gpu0')\n",
    "        interaction = torch.load(path_to_interaction)\n",
    "\n",
    "        attributes = n_attributes[d]\n",
    "        values = n_values[d]\n",
    "        scores = message_length_per_hierarchy_level(interaction, attributes)\n",
    "        \n",
    "        pickle.dump(scores, open(path_to_run + 'message_length_hierarchical.pkl', 'wb'))"
   ]
  },
  {
   "attachments": {},
   "cell_type": "markdown",
   "metadata": {},
   "source": [
    "##  symbol redundancy"
   ]
  },
  {
   "cell_type": "code",
   "execution_count": 10,
   "metadata": {},
   "outputs": [
    {
     "name": "stderr",
     "output_type": "stream",
     "text": [
      "c:\\Users\\Colab\\Documents\\GitHub\\emergent-abstractions\\utils\\analysis_from_interaction.py:446: RuntimeWarning: invalid value encountered in divide\n",
      "  return symbol_frequency / att_val_frequency, mutual_information\n",
      "c:\\Users\\Colab\\Documents\\GitHub\\emergent-abstractions\\utils\\analysis_from_interaction.py:446: RuntimeWarning: invalid value encountered in divide\n",
      "  return symbol_frequency / att_val_frequency, mutual_information\n",
      "c:\\Users\\Colab\\Documents\\GitHub\\emergent-abstractions\\utils\\analysis_from_interaction.py:446: RuntimeWarning: invalid value encountered in divide\n",
      "  return symbol_frequency / att_val_frequency, mutual_information\n",
      "c:\\Users\\Colab\\Documents\\GitHub\\emergent-abstractions\\utils\\analysis_from_interaction.py:446: RuntimeWarning: invalid value encountered in divide\n",
      "  return symbol_frequency / att_val_frequency, mutual_information\n",
      "c:\\Users\\Colab\\Documents\\GitHub\\emergent-abstractions\\utils\\analysis_from_interaction.py:446: RuntimeWarning: invalid value encountered in divide\n",
<<<<<<< HEAD
      "  return symbol_frequency / att_val_frequency, mutual_information\n",
      "c:\\Users\\Colab\\Documents\\GitHub\\emergent-abstractions\\utils\\analysis_from_interaction.py:446: RuntimeWarning: invalid value encountered in divide\n",
      "  return symbol_frequency / att_val_frequency, mutual_information\n",
      "c:\\Users\\Colab\\Documents\\GitHub\\emergent-abstractions\\utils\\analysis_from_interaction.py:446: RuntimeWarning: invalid value encountered in divide\n",
      "  return symbol_frequency / att_val_frequency, mutual_information\n",
      "c:\\Users\\Colab\\Documents\\GitHub\\emergent-abstractions\\utils\\analysis_from_interaction.py:446: RuntimeWarning: invalid value encountered in divide\n",
      "  return symbol_frequency / att_val_frequency, mutual_information\n",
      "c:\\Users\\Colab\\Documents\\GitHub\\emergent-abstractions\\utils\\analysis_from_interaction.py:446: RuntimeWarning: invalid value encountered in divide\n",
      "  return symbol_frequency / att_val_frequency, mutual_information\n",
      "c:\\Users\\Colab\\Documents\\GitHub\\emergent-abstractions\\utils\\analysis_from_interaction.py:446: RuntimeWarning: invalid value encountered in divide\n",
=======
>>>>>>> 07b650c9ec863a3108bc2677b72856e80b6a3c1a
      "  return symbol_frequency / att_val_frequency, mutual_information\n"
     ]
    }
   ],
   "source": [
    "### use this to evaluate experiments with non-default granularity\n",
    "\n",
    "for g in granularities:\n",
    "    for d in range(len(datasets)):\n",
    "        \n",
    "        attributes = n_attributes[d]\n",
    "        values = n_values[d]\n",
    "        vs_factor = int(paths[d][-2])\n",
    "        vocab_size = (n_values[d] + 1) * vs_factor + 1\n",
    "        \n",
    "        for run in range(5): \n",
    "            \n",
    "            path_to_run = paths[d] + str(setting) +'/' + str(g) + '/' + str(run) + '/'\n",
    "            #symbol_f = np.load(path_to_run + 'symbols_pernsame.npy')\n",
    "            #path_to_interaction = (path_to_run + 'interactions/train/interactions_epoch' + str(n_epochs))\n",
    "            path_to_interaction = (path_to_run + 'interactions/train/epoch_' + str(n_epochs) + '/interaction_gpu0')\n",
    "            interaction = torch.load(path_to_interaction)\n",
    "            redundancy, MI = symbol_frequency(interaction, attributes, values, vocab_size)\n",
    "            \n",
    "            scores = {'symbol_redundancy': redundancy, 'MI_symbol-attribute_value': MI}\n",
    "            \n",
    "            pickle.dump(scores, open(path_to_run + 'symbol_redundancy.pkl', 'wb'))"
   ]
  },
  {
   "attachments": {},
   "cell_type": "markdown",
   "metadata": {},
   "source": [
    "##  compositionality scores: topsim, posdis, bosdis"
   ]
  },
  {
   "cell_type": "markdown",
   "metadata": {
    "collapsed": false
   },
   "source": [
    "### topsim"
   ]
  },
  {
   "cell_type": "code",
   "execution_count": null,
   "metadata": {
    "ExecuteTime": {
     "end_time": "2024-03-06T18:20:39.525914Z",
     "start_time": "2024-03-06T14:09:08.937473Z"
    },
    "scrolled": true
   },
   "outputs": [],
   "source": [
    "# topsim\n",
    "# although topsim values are stored throughout training if callbacks are verbose, we reevaluate the\n",
    "# final topsim scores with more data points \n",
    "\n",
    "samples = 5000 # maybe shuffle from these because otherwise I just take the first 5,000 (which might not be the best)\n",
    "for d, dataset in enumerate(datasets):\n",
    "    \n",
    "    dim = [n_values[d]]*n_attributes[d]\n",
    "    \n",
    "    for run in range(5):\n",
    "        print(\"dataset\", dataset, \"run\", run)\n",
    "        \n",
    "        topsim_final = {}\n",
    "        path_to_run = paths[d] + str(setting) +'/' + str(run) + '/'\n",
    "        path_to_interaction_train = (path_to_run + 'interactions/train/epoch_' + str(n_epochs) + '/interaction_gpu0')\n",
    "        path_to_interaction_val = (path_to_run + 'interactions/validation/epoch_' + str(n_epochs) + '/interaction_gpu0')\n",
    "        \n",
    "        TOPSIM = TopographicSimilarityConceptLevel(dim, is_gumbel=True)\n",
    "        \n",
    "        for mode in ['train', 'val']:\n",
    "\n",
    "            if mode == 'train':\n",
    "                interaction = torch.load(path_to_interaction_train)\n",
    "            elif mode == 'val':\n",
    "                interaction = torch.load(path_to_interaction_val)\n",
    "                \n",
    "                  \n",
    "            messages = interaction.message.argmax(dim=-1)\n",
    "            sender_input = interaction.sender_input\n",
    "            n_targets = int(sender_input.shape[1]/2)\n",
    "            # get target objects and fixed vectors to re-construct concepts\n",
    "            target_objects = sender_input[:, :n_targets]\n",
    "            target_objects = k_hot_to_attributes(target_objects, n_values[d])\n",
    "            # concepts are defined by a list of target objects (here one sampled target object) and a fixed vector\n",
    "            (objects, fixed) = retrieve_concepts_sampling(target_objects)\n",
    "            # add one such that zero becomes an empty attribute for the calculation (_)\n",
    "            objects = objects + 1\n",
    "            concepts = torch.from_numpy(objects * (np.array(fixed)))\n",
    "            specific_idx = np.where(np.sum(fixed, axis=1)==n_attributes[d])[0]\n",
    "            messages_specific = messages[specific_idx]\n",
    "            concepts_specific = concepts[specific_idx]\n",
    "            \n",
    "            generic_idx = np.where(np.sum(fixed, axis=1)==1)[0]\n",
    "            messages_generic = messages[generic_idx]\n",
    "            concepts_generic = concepts[generic_idx]\n",
    "\n",
    "            messages = [msg.tolist() for msg in messages]\n",
    "            messages_specific = [msg.tolist() for msg in messages_specific]\n",
    "            messages_generic = [msg.tolist() for msg in messages_generic]\n",
    "\n",
    "            encoded_input = encode_target_concepts_for_topsim(sender_input)\n",
    "            # randomly take samples when more than 5000 samples are available\n",
    "            # if len(encoded_input) > samples: \n",
    "            #     print(\"sampling\")\n",
    "            #     sample_indices = random.sample(range(len(encoded_input)), samples)\n",
    "            #     sampled_input = [encoded_input[i] for i in sample_indices]\n",
    "            #     sampled_messages = [messages[i] for i in sample_indices]\n",
    "            #     print(\"start computing\")\n",
    "            #     print(len(sampled_input), len(sampled_input[0]), len(sampled_input[0][0]))\n",
    "            #     topsim = TOPSIM.compute_topsim(sampled_input, sampled_messages)\n",
    "            # else:\n",
    "            topsim = TOPSIM.compute_topsim(encoded_input[0:samples], messages[0:samples]) # default: hausdorff distance for concepts, edit distance for messages\n",
    "            # if len(concepts_specific) > samples:\n",
    "            #     print(\"sampling specific\")\n",
    "            #     sample_indices_specific = random.sample(range(len(concepts_specific)), samples)\n",
    "            #     sampled_input_specific = [concepts_specific[i] for i in sample_indices_specific]\n",
    "            #     sampled_messages_specific = [messages_specific[i] for i in sample_indices_specific]\n",
    "            #     topsim_specific = TOPSIM.compute_topsim(sampled_input_specific, sampled_messages_specific, \n",
    "            #                                             meaning_distance_fn=\"edit\")\n",
    "            # else:\n",
    "            topsim_specific = TOPSIM.compute_topsim(concepts_specific[0:samples], messages_specific[0:samples], \n",
    "                                                        meaning_distance_fn=\"edit\")\n",
    "            \n",
    "            topsim_generic = TOPSIM.compute_topsim(concepts_generic[0:samples], messages_generic[0:samples],\n",
    "                                                   meaning_distance_fn=\"edit\")\n",
    "\n",
    "            print('... topsim computed')\n",
    "\n",
    "            topsim_final['topsim_' + mode] = topsim\n",
    "            topsim_final['topsim_specific_' + mode] = topsim_specific\n",
    "            topsim_final['topsim_generic_' + mode] = topsim_generic\n",
    "    \n",
    "        pickle.dump(topsim_final, open(path_to_run +  \"topsim_final.pkl\", \"wb\" ) )\n",
    "        print(topsim_final)        "
   ]
  },
  {
   "cell_type": "code",
<<<<<<< HEAD
   "execution_count": 10,
=======
   "execution_count": 11,
>>>>>>> 07b650c9ec863a3108bc2677b72856e80b6a3c1a
   "metadata": {},
   "outputs": [
    {
     "name": "stdout",
     "output_type": "stream",
     "text": [
<<<<<<< HEAD
      "dataset (3,16) granularity granularity_coarse run 0\n"
=======
      "dataset (5,4) granularity granularity_fine run 0\n"
>>>>>>> 07b650c9ec863a3108bc2677b72856e80b6a3c1a
     ]
    }
   ],
   "source": [
    "###use this for non-default granularities\n",
    "\n",
    "# topsim\n",
    "# although topsim values are stored throughout training if callbacks are verbose, we reevaluate the\n",
    "# final topsim scores with more data points \n",
    "\n",
    "samples = 5000 # maybe shuffle from these because otherwise I just take the first 5,000 (which might not be the best)\n",
    "\n",
    "for g in granularities:\n",
    "    for d, dataset in enumerate(datasets):\n",
    "        \n",
    "        dim = [n_values[d]]*n_attributes[d]\n",
    "        \n",
    "        for run in range(5):\n",
    "            print(\"dataset\", dataset, \"granularity\", g, \"run\", run)\n",
    "            \n",
    "            topsim_final = {}\n",
    "            path_to_run = paths[d] + str(setting) +'/' +str(g) + '/' + str(run) + '/'\n",
    "            path_to_interaction_train = (path_to_run + 'interactions/train/epoch_' + str(n_epochs) + '/interaction_gpu0')\n",
    "            path_to_interaction_val = (path_to_run + 'interactions/validation/epoch_' + str(n_epochs) + '/interaction_gpu0')\n",
    "            \n",
    "            TOPSIM = TopographicSimilarityConceptLevel(dim, is_gumbel=True)\n",
    "            \n",
    "            for mode in ['train', 'val']:\n",
    "\n",
    "                if mode == 'train':\n",
    "                    interaction = torch.load(path_to_interaction_train)\n",
    "                elif mode == 'val':\n",
    "                    interaction = torch.load(path_to_interaction_val)\n",
    "                    \n",
    "                    \n",
    "                messages = interaction.message.argmax(dim=-1)\n",
    "                sender_input = interaction.sender_input\n",
    "                n_targets = int(sender_input.shape[1]/2)\n",
    "                # get target objects and fixed vectors to re-construct concepts\n",
    "                target_objects = sender_input[:, :n_targets]\n",
    "                target_objects = k_hot_to_attributes(target_objects, n_values[d])\n",
    "                # concepts are defined by a list of target objects (here one sampled target object) and a fixed vector\n",
    "                (objects, fixed) = retrieve_concepts_sampling(target_objects)\n",
    "                # add one such that zero becomes an empty attribute for the calculation (_)\n",
    "                objects = objects + 1\n",
    "                concepts = torch.from_numpy(objects * (np.array(fixed)))\n",
    "                specific_idx = np.where(np.sum(fixed, axis=1)==n_attributes[d])[0]\n",
    "                messages_specific = messages[specific_idx]\n",
    "                concepts_specific = concepts[specific_idx]\n",
    "                \n",
    "                generic_idx = np.where(np.sum(fixed, axis=1)==1)[0]\n",
    "                messages_generic = messages[generic_idx]\n",
    "                concepts_generic = concepts[generic_idx]\n",
    "\n",
    "                messages = [msg.tolist() for msg in messages]\n",
    "                messages_specific = [msg.tolist() for msg in messages_specific]\n",
    "                messages_generic = [msg.tolist() for msg in messages_generic]\n",
    "\n",
    "                encoded_input = encode_target_concepts_for_topsim(sender_input)\n",
    "                # randomly take samples when more than 5000 samples are available\n",
    "                # if len(encoded_input) > samples: \n",
    "                #     print(\"sampling\")\n",
    "                #     sample_indices = random.sample(range(len(encoded_input)), samples)\n",
    "                #     sampled_input = [encoded_input[i] for i in sample_indices]\n",
    "                #     sampled_messages = [messages[i] for i in sample_indices]\n",
    "                #     print(\"start computing\")\n",
    "                #     print(len(sampled_input), len(sampled_input[0]), len(sampled_input[0][0]))\n",
    "                #     topsim = TOPSIM.compute_topsim(sampled_input, sampled_messages)\n",
    "                # else:\n",
    "                topsim = TOPSIM.compute_topsim(encoded_input[0:samples], messages[0:samples]) # default: hausdorff distance for concepts, edit distance for messages\n",
    "                # if len(concepts_specific) > samples:\n",
    "                #     print(\"sampling specific\")\n",
    "                #     sample_indices_specific = random.sample(range(len(concepts_specific)), samples)\n",
    "                #     sampled_input_specific = [concepts_specific[i] for i in sample_indices_specific]\n",
    "                #     sampled_messages_specific = [messages_specific[i] for i in sample_indices_specific]\n",
    "                #     topsim_specific = TOPSIM.compute_topsim(sampled_input_specific, sampled_messages_specific, \n",
    "                #                                             meaning_distance_fn=\"edit\")\n",
    "                # else:\n",
    "                topsim_specific = TOPSIM.compute_topsim(concepts_specific[0:samples], messages_specific[0:samples], \n",
    "                                                            meaning_distance_fn=\"edit\")\n",
    "                \n",
    "                topsim_generic = TOPSIM.compute_topsim(concepts_generic[0:samples], messages_generic[0:samples],\n",
    "                                                    meaning_distance_fn=\"edit\")\n",
    "\n",
    "                print('... topsim computed')\n",
    "\n",
    "                topsim_final['topsim_' + mode] = topsim\n",
    "                topsim_final['topsim_specific_' + mode] = topsim_specific\n",
    "                topsim_final['topsim_generic_' + mode] = topsim_generic\n",
    "        \n",
    "            pickle.dump(topsim_final, open(path_to_run +  \"topsim_final.pkl\", \"wb\" ) )\n",
    "            print(topsim_final)        "
   ]
  },
  {
   "cell_type": "markdown",
   "metadata": {
    "collapsed": false
   },
   "source": [
    "#### Topsim over time"
   ]
  },
  {
   "cell_type": "code",
   "execution_count": null,
   "metadata": {
    "ExecuteTime": {
     "start_time": "2024-03-14T14:07:47.776462Z"
    },
    "collapsed": false,
    "is_executing": true
   },
   "outputs": [],
   "source": [
    "for d, dataset in enumerate(datasets):\n",
    "    \n",
    "    for run in range(5):\n",
    "        print(\"dataset\", dataset, \"run\", run)\n",
    "        \n",
    "        path_to_run = paths[d] + str(setting) +'/' + str(run) + '/'\n",
    "        path_to_interaction_train = (path_to_run + 'interactions/train/epoch_' + str(n_epochs) + '/interaction_gpu0')\n",
    "        path_to_interaction_val = (path_to_run + 'interactions/validation/epoch_' + str(n_epochs) + '/interaction_gpu0')\n",
    "        \n",
    "        for mode in ['train', 'val']:\n",
    "\n",
    "            if mode == 'train':\n",
    "                interaction = torch.load(path_to_interaction_train)\n",
    "            elif mode == 'val':\n",
    "                interaction = torch.load(path_to_interaction_val)\n",
    "\n",
    "        messages = interaction.message.argmax(dim=-1)\n",
    "        sender_input = interaction.sender_input\n",
    "        messages = [msg.tolist() for msg in messages]\n",
    "        encoded_input = encode_target_concepts_for_topsim(sender_input)\n",
    "        dim = [n_values[0]] * n_attributes[0]\n",
    "        TOPSIM = TopographicSimilarityConceptLevel(dim, is_gumbel=True)\n",
    "        \n",
    "        samples = 5000\n",
    "        num_batches = len(messages) // samples + (len(messages) % samples > 0)\n",
    "        topsim_over_time = []\n",
    "        \n",
    "        for i in range(num_batches):\n",
    "            messages_batch = messages[i * samples:(i + 1) * samples]\n",
    "            topsim = TOPSIM.compute_topsim(encoded_input[i * samples:(i + 1) * samples], messages_batch)\n",
    "            topsim_over_time.append(topsim)\n",
    "            \n",
    "        pickle.dump(topsim_over_time, open(path_to_run +  \"topsim_over_time.pkl\", \"wb\" ) )"
   ]
  },
  {
   "cell_type": "code",
   "execution_count": null,
   "metadata": {},
   "outputs": [
    {
     "name": "stdout",
     "output_type": "stream",
     "text": [
      "dataset (3,4) granularity granularity_coarse run 0\n",
      "dataset (3,4) granularity granularity_coarse run 1\n",
      "dataset (3,4) granularity granularity_coarse run 2\n",
      "dataset (3,4) granularity granularity_coarse run 3\n",
      "dataset (3,4) granularity granularity_coarse run 4\n",
      "dataset (3,4) granularity granularity_fine run 0\n",
      "dataset (3,4) granularity granularity_fine run 1\n",
      "dataset (3,4) granularity granularity_fine run 2\n",
      "dataset (3,4) granularity granularity_fine run 3\n",
      "dataset (3,4) granularity granularity_fine run 4\n"
     ]
    }
   ],
   "source": [
    "### use this for non-default granularities\n",
    "\n",
    "for g in granularities:\n",
    "\n",
    "    for d, dataset in enumerate(datasets):\n",
    "        \n",
    "        for run in range(5):\n",
    "            print(\"dataset\", dataset, \"granularity\", g, \"run\", run)\n",
    "            \n",
    "            path_to_run = paths[d] + str(setting) +'/' + str(g)+ '/' + str(run) + '/'\n",
    "            path_to_interaction_train = (path_to_run + 'interactions/train/epoch_' + str(n_epochs) + '/interaction_gpu0')\n",
    "            path_to_interaction_val = (path_to_run + 'interactions/validation/epoch_' + str(n_epochs) + '/interaction_gpu0')\n",
    "            \n",
    "            for mode in ['train', 'val']:\n",
    "\n",
    "                if mode == 'train':\n",
    "                    interaction = torch.load(path_to_interaction_train)\n",
    "                elif mode == 'val':\n",
    "                    interaction = torch.load(path_to_interaction_val)\n",
    "\n",
    "            messages = interaction.message.argmax(dim=-1)\n",
    "            sender_input = interaction.sender_input\n",
    "            messages = [msg.tolist() for msg in messages]\n",
    "            encoded_input = encode_target_concepts_for_topsim(sender_input)\n",
    "            dim = [n_values[0]] * n_attributes[0]\n",
    "            TOPSIM = TopographicSimilarityConceptLevel(dim, is_gumbel=True)\n",
    "            \n",
    "            samples = 5000\n",
    "            num_batches = len(messages) // samples + (len(messages) % samples > 0)\n",
    "            topsim_over_time = []\n",
    "            \n",
    "            for i in range(num_batches):\n",
    "                messages_batch = messages[i * samples:(i + 1) * samples]\n",
    "                topsim = TOPSIM.compute_topsim(encoded_input[i * samples:(i + 1) * samples], messages_batch)\n",
    "                topsim_over_time.append(topsim)\n",
    "                \n",
    "            pickle.dump(topsim_over_time, open(path_to_run +  \"topsim_over_time.pkl\", \"wb\" ) )"
   ]
  },
  {
   "cell_type": "markdown",
   "metadata": {
    "collapsed": false
   },
   "source": [
    "### Posdis and Bosdis"
   ]
  },
  {
   "cell_type": "code",
   "execution_count": null,
   "metadata": {
    "ExecuteTime": {
     "end_time": "2024-02-28T16:16:18.597875Z",
     "start_time": "2024-02-28T16:14:57.896059Z"
    }
   },
   "outputs": [],
   "source": [
    "# use Disent callback from egg\n",
    "\n",
    "for d in range(len(datasets)): \n",
    "    \n",
    "    path = paths[d]\n",
    "    dim = [n_values[d]] * n_attributes[d]\n",
    "    n_features = n_attributes[d] * n_values[d]\n",
    "    vs_factor = int(path[-2])\n",
    "    vocab_size = (n_values[d] + 1) * vs_factor + 1\n",
    "    \n",
    "    print(\"data set\", dim)\n",
    "    \n",
    "    for run in range(5):\n",
    "        \n",
    "        posdis_bosdis = {}\n",
    "    \n",
    "        path_to_run = paths[d] + '/' + str(setting) +'/' + str(run) + '/'\n",
    "        path_to_interaction_train = (path_to_run + 'interactions/train/epoch_' + str(n_epochs) + '/interaction_gpu0')\n",
    "        interaction = torch.load(path_to_interaction_train)\n",
    "        \n",
    "        messages = interaction.message.argmax(dim=-1)\n",
    "        sender_input = interaction.sender_input\n",
    "        n_targets = int(sender_input.shape[1]/2)\n",
    "        # get target objects and fixed vectors to re-construct concepts\n",
    "        target_objects = sender_input[:, :n_targets]\n",
    "        target_objects = k_hot_to_attributes(target_objects, n_values[d])\n",
    "        # concepts are defined by a list of target objects (here one sampled target object) and a fixed vector\n",
    "        (objects, fixed) = retrieve_concepts_sampling(target_objects)\n",
    "        # add one such that zero becomes an empty attribute for the calculation (_)\n",
    "        objects = objects + 1\n",
    "        concepts = torch.from_numpy(objects * (np.array(fixed)))\n",
    "\n",
    "        # concrete/specific concepts: where all attributes are fixed\n",
    "        concepts_specific = torch.tensor(\n",
    "            objects[torch.sum(torch.from_numpy(fixed), dim=1) == n_attributes[d]])\n",
    "        messages_specific = messages[torch.sum(torch.from_numpy(fixed), dim=1) == n_attributes[d]]\n",
    "\n",
    "        # generic concepts: where only one attribute is fixed\n",
    "        concepts_generic = torch.tensor(\n",
    "            objects[torch.sum(torch.from_numpy(fixed), dim=1) == 1])\n",
    "        messages_generic = messages[torch.sum(torch.from_numpy(fixed), dim=1) == 1]\n",
    "        \n",
    "        posdis_specific = Disent.posdis(concepts_specific, messages_specific)\n",
    "        bosdis_specific = Disent.bosdis(concepts_specific, messages_specific, vocab_size)\n",
    "\n",
    "        posdis_generic = Disent.posdis(concepts_generic, messages_generic)\n",
    "        bosdis_generic = Disent.bosdis(concepts_generic, messages_generic, vocab_size)\n",
    "        \n",
    "        posdis = Disent.posdis(torch.from_numpy(objects), messages)\n",
    "        bosdis = Disent.bosdis(torch.from_numpy(objects), messages, vocab_size)\n",
    "        \n",
    "        posdis_bosdis['posdis_specific'] = posdis_specific\n",
    "        posdis_bosdis['bosdis_specific'] = bosdis_specific\n",
    "        posdis_bosdis['posdis_generic'] = posdis_generic\n",
    "        posdis_bosdis['bosdis_generic'] = bosdis_generic\n",
    "        posdis_bosdis['posdis'] = posdis\n",
    "        posdis_bosdis['bosdis'] = bosdis\n",
    "\n",
    "        print(posdis_bosdis)\n",
    "    \n",
    "        pickle.dump(posdis_bosdis, open(path_to_run + \"posdis_bosdis.pkl\", \"wb\" ) )"
   ]
  },
  {
   "cell_type": "code",
   "execution_count": null,
   "metadata": {},
   "outputs": [
    {
     "name": "stdout",
     "output_type": "stream",
     "text": [
      "data set [4, 4, 4] granularity_coarse\n",
      "{'posdis_specific': 0.08977968245744705, 'bosdis_specific': 0.2893837094306946, 'posdis_generic': 0.014423076994717121, 'bosdis_generic': 0.40043753385543823, 'posdis': 0.06159316375851631, 'bosdis': 0.34295418858528137}\n",
      "{'posdis_specific': 0.5445482134819031, 'bosdis_specific': 0.30714866518974304, 'posdis_generic': 0.08193547278642654, 'bosdis_generic': 0.24916066229343414, 'posdis': 0.3510983884334564, 'bosdis': 0.28555911779403687}\n",
      "{'posdis_specific': 0.8766304850578308, 'bosdis_specific': 0.7075303792953491, 'posdis_generic': 0.07515589892864227, 'bosdis_generic': 0.3101643919944763, 'posdis': 0.44335219264030457, 'bosdis': 0.3930688798427582}\n",
      "{'posdis_specific': 0.4346048831939697, 'bosdis_specific': 0.3561984598636627, 'posdis_generic': 0.04214636981487274, 'bosdis_generic': 0.32516175508499146, 'posdis': 0.2392079383134842, 'bosdis': 0.35278433561325073}\n",
      "{'posdis_specific': 0.5778630375862122, 'bosdis_specific': 0.30237147212028503, 'posdis_generic': 0.0892937183380127, 'bosdis_generic': 0.15919837355613708, 'posdis': 0.3764646053314209, 'bosdis': 0.2501993477344513}\n",
      "data set [4, 4, 4] granularity_fine\n",
      "{'posdis_specific': 0.07082390040159225, 'bosdis_specific': 0.16366346180438995, 'posdis_generic': 0.1694444864988327, 'bosdis_generic': 0.2616097927093506, 'posdis': 0.044351786375045776, 'bosdis': 0.16875314712524414}\n",
      "{'posdis_specific': 0.07964396476745605, 'bosdis_specific': 0.11251196265220642, 'posdis_generic': 0.1793920397758484, 'bosdis_generic': 0.13719479739665985, 'posdis': 0.06177143752574921, 'bosdis': 0.09630594402551651}\n",
      "{'posdis_specific': 0.016677601262927055, 'bosdis_specific': 0.42338827252388, 'posdis_generic': 0.04818125441670418, 'bosdis_generic': 0.20939475297927856, 'posdis': 0.019911203533411026, 'bosdis': 0.3124297261238098}\n",
      "{'posdis_specific': 0.0399690605700016, 'bosdis_specific': 0.12617303431034088, 'posdis_generic': 0.04241551458835602, 'bosdis_generic': 0.22278665006160736, 'posdis': 0.03553679212927818, 'bosdis': 0.11964115500450134}\n",
      "{'posdis_specific': 0.0801592469215393, 'bosdis_specific': 0.4726858139038086, 'posdis_generic': 0.014552171342074871, 'bosdis_generic': 0.34185776114463806, 'posdis': 0.03528054803609848, 'bosdis': 0.3325243890285492}\n"
     ]
    }
   ],
   "source": [
    "### use this for non-default granularities\n",
    "\n",
    "# use Disent callback from egg\n",
    "for g in granularities:\n",
    "\n",
    "    for d in range(len(datasets)): \n",
    "        \n",
    "        path = paths[d]\n",
    "        dim = [n_values[d]] * n_attributes[d]\n",
    "        n_features = n_attributes[d] * n_values[d]\n",
    "        vs_factor = int(path[-2])\n",
    "        vocab_size = (n_values[d] + 1) * vs_factor + 1\n",
    "        \n",
    "        print(\"data set\", dim, str(g))\n",
    "\n",
    "        \n",
    "        for run in range(5):\n",
    "            \n",
    "            posdis_bosdis = {}\n",
    "        \n",
    "            path_to_run = paths[d] + '/' + str(setting) +'/' + str(g) + '/' + str(run) + '/'\n",
    "            path_to_interaction_train = (path_to_run + 'interactions/train/epoch_' + str(n_epochs) + '/interaction_gpu0')\n",
    "            interaction = torch.load(path_to_interaction_train)\n",
    "            \n",
    "            messages = interaction.message.argmax(dim=-1)\n",
    "            sender_input = interaction.sender_input\n",
    "            n_targets = int(sender_input.shape[1]/2)\n",
    "            # get target objects and fixed vectors to re-construct concepts\n",
    "            target_objects = sender_input[:, :n_targets]\n",
    "            target_objects = k_hot_to_attributes(target_objects, n_values[d])\n",
    "            # concepts are defined by a list of target objects (here one sampled target object) and a fixed vector\n",
    "            (objects, fixed) = retrieve_concepts_sampling(target_objects)\n",
    "            # add one such that zero becomes an empty attribute for the calculation (_)\n",
    "            objects = objects + 1\n",
    "            concepts = torch.from_numpy(objects * (np.array(fixed)))\n",
    "\n",
    "            # concrete/specific concepts: where all attributes are fixed\n",
    "            concepts_specific = torch.tensor(\n",
    "                objects[torch.sum(torch.from_numpy(fixed), dim=1) == n_attributes[d]])\n",
    "            messages_specific = messages[torch.sum(torch.from_numpy(fixed), dim=1) == n_attributes[d]]\n",
    "\n",
    "            # generic concepts: where only one attribute is fixed\n",
    "            concepts_generic = torch.tensor(\n",
    "                objects[torch.sum(torch.from_numpy(fixed), dim=1) == 1])\n",
    "            messages_generic = messages[torch.sum(torch.from_numpy(fixed), dim=1) == 1]\n",
    "            \n",
    "            posdis_specific = Disent.posdis(concepts_specific, messages_specific)\n",
    "            bosdis_specific = Disent.bosdis(concepts_specific, messages_specific, vocab_size)\n",
    "\n",
    "            posdis_generic = Disent.posdis(concepts_generic, messages_generic)\n",
    "            bosdis_generic = Disent.bosdis(concepts_generic, messages_generic, vocab_size)\n",
    "            \n",
    "            posdis = Disent.posdis(torch.from_numpy(objects), messages)\n",
    "            bosdis = Disent.bosdis(torch.from_numpy(objects), messages, vocab_size)\n",
    "            \n",
    "            posdis_bosdis['posdis_specific'] = posdis_specific\n",
    "            posdis_bosdis['bosdis_specific'] = bosdis_specific\n",
    "            posdis_bosdis['posdis_generic'] = posdis_generic\n",
    "            posdis_bosdis['bosdis_generic'] = bosdis_generic\n",
    "            posdis_bosdis['posdis'] = posdis\n",
    "            posdis_bosdis['bosdis'] = bosdis\n",
    "\n",
    "            print(posdis_bosdis)\n",
    "        \n",
    "            pickle.dump(posdis_bosdis, open(path_to_run + \"posdis_bosdis.pkl\", \"wb\" ) )"
   ]
  },
  {
   "cell_type": "markdown",
   "metadata": {
    "collapsed": false
   },
   "source": [
    "#### Posdis and bosdis concept x context"
   ]
  },
  {
   "cell_type": "code",
   "execution_count": null,
   "metadata": {
    "ExecuteTime": {
     "end_time": "2024-02-28T16:21:47.222765Z",
     "start_time": "2024-02-28T16:21:29.736013Z"
    }
   },
   "outputs": [],
   "source": [
    "# posdis concept x context\n",
    "for d in range(len(datasets)):\n",
    "\n",
    "    vs_factor = int(paths[d][-2])\n",
    "    vocab_size = (n_values[d] + 1) * vs_factor + 1\n",
    "\n",
    "    for run in range(5):\n",
    "        path_to_run = paths[d] + '/' + str(setting) + '/' + str(run) + '/'\n",
    "        print(path_to_run)\n",
    "        path_to_interaction = (path_to_run + 'interactions/train/epoch_' + str(n_epochs) + '/interaction_gpu0')\n",
    "        #print(path_to_interaction)\n",
    "        interaction = torch.load(path_to_interaction)\n",
    "\n",
    "        attributes = n_attributes[d]\n",
    "        values = n_values[d]\n",
    "        scores = posdis(interaction, attributes, values, vocab_size)\n",
    "\n",
    "        pickle.dump(scores, open(path_to_run + 'posdis_scores.pkl', 'wb'))"
   ]
  },
  {
   "cell_type": "code",
   "execution_count": null,
   "metadata": {
    "ExecuteTime": {
     "end_time": "2024-02-28T16:22:09.615176Z",
     "start_time": "2024-02-28T16:21:47.223647Z"
    },
    "collapsed": false
   },
   "outputs": [
    {
     "name": "stdout",
     "output_type": "stream",
     "text": [
      "results/(3,4)_game_size_10_vsf_3//standard/granularity_coarse/0/\n"
     ]
    },
    {
     "ename": "TypeError",
     "evalue": "'float' object is not callable",
     "output_type": "error",
     "traceback": [
      "\u001b[1;31m---------------------------------------------------------------------------\u001b[0m",
      "\u001b[1;31mTypeError\u001b[0m                                 Traceback (most recent call last)",
      "Cell \u001b[1;32mIn[36], line 19\u001b[0m\n\u001b[0;32m     17\u001b[0m attributes \u001b[38;5;241m=\u001b[39m n_attributes[d]\n\u001b[0;32m     18\u001b[0m values \u001b[38;5;241m=\u001b[39m n_values[d]\n\u001b[1;32m---> 19\u001b[0m scores \u001b[38;5;241m=\u001b[39m \u001b[43mposdis\u001b[49m\u001b[43m(\u001b[49m\u001b[43minteraction\u001b[49m\u001b[43m,\u001b[49m\u001b[43m \u001b[49m\u001b[43mattributes\u001b[49m\u001b[43m,\u001b[49m\u001b[43m \u001b[49m\u001b[43mvalues\u001b[49m\u001b[43m,\u001b[49m\u001b[43m \u001b[49m\u001b[43mvocab_size\u001b[49m\u001b[43m)\u001b[49m\n\u001b[0;32m     21\u001b[0m pickle\u001b[38;5;241m.\u001b[39mdump(scores, \u001b[38;5;28mopen\u001b[39m(path_to_run \u001b[38;5;241m+\u001b[39m \u001b[38;5;124m'\u001b[39m\u001b[38;5;124mposdis_scores.pkl\u001b[39m\u001b[38;5;124m'\u001b[39m, \u001b[38;5;124m'\u001b[39m\u001b[38;5;124mwb\u001b[39m\u001b[38;5;124m'\u001b[39m))\n",
      "\u001b[1;31mTypeError\u001b[0m: 'float' object is not callable"
     ]
    }
   ],
   "source": [
    "### use this for non-default granularities\n",
    "##there is a mistake here\n",
    "\n",
    "# posdis concept x context\n",
    "for g in granularities:\n",
    "    for d in range(len(datasets)):\n",
    "\n",
    "        vs_factor = int(paths[d][-2])\n",
    "        vocab_size = (n_values[d] + 1) * vs_factor + 1\n",
    "\n",
    "        for run in range(5):\n",
    "            path_to_run = paths[d] + '/' + str(setting) + '/' + str(g) + '/' + str(run) + '/'\n",
    "            print(path_to_run)\n",
    "            path_to_interaction = (path_to_run + 'interactions/train/epoch_' + str(n_epochs) + '/interaction_gpu0')\n",
    "            #print(path_to_interaction)\n",
    "            interaction = torch.load(path_to_interaction)\n",
    "\n",
    "            attributes = n_attributes[d]\n",
    "            values = n_values[d]\n",
    "            scores = posdis(interaction, attributes, values, vocab_size)\n",
    "\n",
    "            pickle.dump(scores, open(path_to_run + 'posdis_scores.pkl', 'wb'))"
   ]
  },
  {
   "attachments": {},
   "cell_type": "markdown",
   "metadata": {},
   "source": [
    "## co-occurrences"
   ]
  },
  {
   "cell_type": "code",
   "execution_count": null,
   "metadata": {},
   "outputs": [],
   "source": [
    "# Not yet implemented:\n",
    "\n",
    "for d in range(len(datasets)):\n",
    "    \n",
    "    vs_factor = int(paths[d][-2])\n",
    "    \n",
    "    for run in range(5): \n",
    "        \n",
    "        path_to_run = paths[d] + str(setting) +'/' + str(run) + '/'\n",
    "        path_to_interaction = (path_to_run + 'interactions/train/epoch_' + str(n_epochs) + '/interaction_gpu0')\n",
    "        interaction = torch.load(path_to_interaction)\n",
    "\n",
    "        attributes = n_attributes[d]\n",
    "        values = n_values[d]\n",
    "        \n",
    "        scores = cooccurrence_per_hierarchy_level(interaction, attributes, values, vs_factor)\n",
    "\n",
    "        print(scores)\n",
    "        \n",
    "        pickle.dump(scores, open(path_to_run + 'normalized_cooccurrence.pkl', 'wb'))\n",
    "    "
   ]
  }
 ],
 "metadata": {
  "kernelspec": {
   "display_name": "Python 3 (ipykernel)",
   "language": "python",
   "name": "python3"
  },
  "language_info": {
   "codemirror_mode": {
    "name": "ipython",
    "version": 3
   },
   "file_extension": ".py",
   "mimetype": "text/x-python",
   "name": "python",
   "nbconvert_exporter": "python",
   "pygments_lexer": "ipython3",
   "version": "3.9.19"
  }
 },
 "nbformat": 4,
 "nbformat_minor": 4
}
