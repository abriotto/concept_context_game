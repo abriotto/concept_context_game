{
 "cells": [
  {
   "cell_type": "code",
   "execution_count": 19,
   "metadata": {},
   "outputs": [],
   "source": [
    "from utils.load_results import *\n",
    "from utils.plot_helpers import *\n",
    "\n",
    "import pandas as pd\n",
    "import seaborn as sns\n",
    "from matplotlib import pyplot as plt\n",
    "plt.style.use('default')\n",
    "import torch\n",
    "from utils.analysis_from_interaction import *\n",
    "from language_analysis_local import TopographicSimilarityConceptLevel, encode_target_concepts_for_topsim\n",
    "import os\n",
    "if not os.path.exists('analysis'):\n",
    "    os.makedirs('analysis')\n",
    "#import plotly.express as px"
   ]
  },
  {
   "cell_type": "code",
   "execution_count": 20,
   "metadata": {},
   "outputs": [],
   "source": [
    "datasets = ['(3,4)', '(3,8)', '(3,16)', '(4,4)', '(4,8)', '(5,4)']\n",
    "n_values = [4, 8, 16, 4, 8, 4]\n",
    "n_attributes = [3, 3, 3, 4, 4, 5]\n",
    "n_epochs = 300\n",
    "n_datasets = len(datasets)\n",
    "paths = ['results/' + d + '_game_size_10_vsf_3' for d in datasets]"
   ]
  },
  {
   "cell_type": "code",
   "execution_count": 21,
   "metadata": {},
   "outputs": [],
   "source": [
    "datasets = ['(3,4)']\n",
    "n_values = [4,]\n",
    "n_attributes = [3,]\n",
    "n_epochs = 300\n",
    "n_datasets = len(datasets)\n",
    "paths = ['results/' + d + '_game_size_10_vsf_3' for d in datasets]"
   ]
  },
  {
   "cell_type": "code",
   "execution_count": 22,
   "metadata": {},
   "outputs": [],
   "source": [
    "context_unaware = False # whether original or context_unaware simulations are evaluated\n",
    "\n",
    "setting = 'standard'\n",
    "granularity_list = ('coarse', 'mixed', 'fine')"
   ]
  },
  {
   "cell_type": "markdown",
   "metadata": {},
   "source": [
    "### Determine vocab size"
   ]
  },
  {
   "cell_type": "code",
   "execution_count": 23,
   "metadata": {},
   "outputs": [],
   "source": [
    "from collections import Counter"
   ]
  },
  {
   "cell_type": "code",
   "execution_count": 24,
   "metadata": {},
   "outputs": [
    {
     "name": "stdout",
     "output_type": "stream",
     "text": [
      "coarse context condition\n",
      "results/(3,4)_game_size_10_vsf_3/standard/granularity_coarse/0/interactions/train/epoch_300/interaction_gpu0\n",
      "Counter({0: 742, 14: 450, 9: 391, 4: 387, 6: 295, 3: 196, 15: 153, 1: 124, 2: 100, 7: 47, 8: 46, 12: 37})\n",
      "12 \n",
      "\n",
      "fine context condition\n",
      "results/(3,4)_game_size_10_vsf_3/standard/granularity_fine/0/interactions/train/epoch_300/interaction_gpu0\n",
      "Counter({0: 742, 14: 332, 5: 315, 4: 214, 12: 205, 1: 193, 15: 187, 8: 168, 10: 151, 13: 149, 3: 148, 2: 95, 11: 46, 7: 23})\n",
      "14 \n",
      "\n"
     ]
    }
   ],
   "source": [
    "# go through all datasets\n",
    "for i, d in enumerate(datasets):\n",
    "    for g in granularity_list:\n",
    "        # select first run\n",
    "        if g != 'mixed':\n",
    "            print(g+ ' context condition')\n",
    "            path_to_run = paths[i] + '/' + str(setting) +'/' + 'granularity_'+g+ '/'+ str(0) + '/'\n",
    "            path_to_interaction_train = (path_to_run + 'interactions/train/epoch_' + str(n_epochs) + '/interaction_gpu0')\n",
    "            path_to_interaction_val = (path_to_run + 'interactions/validation/epoch_' + str(n_epochs) + '/interaction_gpu0')\n",
    "            interaction = torch.load(path_to_interaction_train)\n",
    "            print(path_to_interaction_train)\n",
    "            \n",
    "            messages = interaction.message.argmax(dim=-1)\n",
    "            messages = [msg.tolist() for msg in messages]\n",
    "            all_symbols = [symbol for message in messages for symbol in message]\n",
    "            symbol_counts = Counter(all_symbols)\n",
    "            print(symbol_counts)\n",
    "            print(len(symbol_counts), '\\n')"
   ]
  },
  {
   "cell_type": "code",
   "execution_count": 27,
   "metadata": {},
   "outputs": [],
   "source": [
    "import sys\n",
    "import os\n",
    "from collections import Counter\n",
    "\n",
    "# Check if the output file exists\n",
    "if not os.path.exists('vocab_sizes.txt'):\n",
    "    mode = 'w'  # If the file doesn't exist, open in write mode to create it\n",
    "else:\n",
    "    mode = 'a'  # If the file exists, open in append mode to add to it\n",
    "\n",
    "# Open the file in the appropriate mode\n",
    "with open('vocab_sizes.txt', mode) as f:\n",
    "    # Redirect stdout to the file\n",
    "    sys.stdout = f\n",
    "    \n",
    "    # go through all datasets\n",
    "    for i, d in enumerate(datasets):\n",
    "        print('dataset: '+d+'\\n')\n",
    "        for g in granularity_list:\n",
    "            # select first run\n",
    "            if g != 'mixed':\n",
    "                print(g+ ' context condition')\n",
    "                path_to_run = paths[i] + '/' + str(setting) +'/' + 'granularity_'+g+ '/'+ str(0) + '/'\n",
    "                path_to_interaction_train = (path_to_run + 'interactions/train/epoch_' + str(n_epochs) + '/interaction_gpu0')\n",
    "                path_to_interaction_val = (path_to_run + 'interactions/validation/epoch_' + str(n_epochs) + '/interaction_gpu0')\n",
    "                interaction = torch.load(path_to_interaction_train)\n",
    "                print(path_to_interaction_train)\n",
    "                \n",
    "                messages = interaction.message.argmax(dim=-1)\n",
    "                messages = [msg.tolist() for msg in messages]\n",
    "                all_symbols = [symbol for message in messages for symbol in message]\n",
    "                symbol_counts = Counter(all_symbols)\n",
    "                print(symbol_counts)\n",
    "                print(len(symbol_counts), '\\n')\n",
    "\n",
    "# Restore the original stdout\n",
    "sys.stdout = sys.__stdout__\n"
   ]
  },
  {
   "cell_type": "markdown",
   "metadata": {},
   "source": [
    "### See which messages are produced for which concepts"
   ]
  }
 ],
 "metadata": {
  "kernelspec": {
   "display_name": "emergab",
   "language": "python",
   "name": "python3"
  },
  "language_info": {
   "codemirror_mode": {
    "name": "ipython",
    "version": 3
   },
   "file_extension": ".py",
   "mimetype": "text/x-python",
   "name": "python",
   "nbconvert_exporter": "python",
   "pygments_lexer": "ipython3",
   "version": "3.9.18"
  }
 },
 "nbformat": 4,
 "nbformat_minor": 2
}
